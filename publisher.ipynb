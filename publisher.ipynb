{
 "cells": [
  {
   "cell_type": "markdown",
   "metadata": {},
   "source": [
    "# PUBLISHER 1"
   ]
  },
  {
   "cell_type": "code",
   "execution_count": null,
   "metadata": {
    "scrolled": true
   },
   "outputs": [],
   "source": [
    "# import paho mqtt\n",
    "import paho.mqtt.client as mqtt\n",
    "\n",
    "# import time untuk sleep()\n",
    "import time\n",
    "\n",
    "# import datetime untuk mendapatkan waktu dan tanggal\n",
    "import datetime\n",
    "\n",
    "\n",
    "# definisikan nama broker yang akan digunakan\n",
    "broker = \"10.20.1.133\"\n",
    "# broker = \"test.mosquitto.org\"\n",
    "\n",
    "# buat client baru bernama P2\n",
    "print(\"creating new instance...\\n\")\n",
    "client = mqtt.Client(\"Pub1\")\n",
    "\n",
    "#client.on_publish=on_publish\n",
    "\n",
    "# koneksi ke broker\n",
    "print(\"connecting to broker...\\n\")\n",
    "client.connect(broker)\n",
    "print('Connected!\\n')\n",
    "\n",
    "# mulai loop client\n",
    "client.loop_start()\n",
    "\n",
    "# lakukan 20x publish waktu dengan topik 1\n",
    "print(\"publish something...\")\n",
    "for i in range (20):\n",
    "    # sleep 1 detik\n",
    "    time.sleep(1)\n",
    "    # publish waktu sekarang\n",
    "    now = datetime.datetime.now()\n",
    "    client.publish(\"topik_1\", \"AAA \"+str(now))\n",
    "    \n",
    "\n",
    "#stop loop\n",
    "client.loop_stop()"
   ]
  },
  {
   "cell_type": "markdown",
   "metadata": {},
   "source": [
    "# PUBLISHER 2"
   ]
  },
  {
   "cell_type": "code",
   "execution_count": null,
   "metadata": {},
   "outputs": [],
   "source": [
    "# import paho mqtt\n",
    "import paho.mqtt.client as mqtt\n",
    "\n",
    "# import time untuk sleep()\n",
    "import time\n",
    "\n",
    "# import datetime untuk mendapatkan waktu dan tanggal\n",
    "import datetime\n",
    "\n",
    "\n",
    "# definisikan nama broker yang akan digunakan\n",
    "broker = \"10.20.1.192\"\n",
    "# broker = \"test.mosquitto.org\"\n",
    "\n",
    "# buat client baru bernama P2\n",
    "print(\"creating new instance...\\n\")\n",
    "client = mqtt.Client(\"Pub2\")\n",
    "\n",
    "#client.on_publish=on_publish\n",
    "\n",
    "# koneksi ke broker\n",
    "print(\"connecting to broker...\\n\")\n",
    "client.connect(broker)\n",
    "print('Connected!\\n')\n",
    "\n",
    "# mulai loop client\n",
    "client.loop_start()\n",
    "\n",
    "# lakukan 20x publish waktu dengan topik 1\n",
    "print(\"publish something...\")\n",
    "for i in range (20):\n",
    "    # sleep 1 detik\n",
    "    time.sleep(1)\n",
    "    # publish waktu sekarang\n",
    "    now = datetime.datetime.now()\n",
    "    client.publish(\"topik_2\", \"BBB \"+str(now))\n",
    "    \n",
    "\n",
    "#stop loop\n",
    "client.loop_stop()"
   ]
  },
  {
   "cell_type": "markdown",
   "metadata": {},
   "source": [
    "# PUBLISH PHOTO "
   ]
  },
  {
   "cell_type": "code",
   "execution_count": null,
   "metadata": {
    "scrolled": true
   },
   "outputs": [],
   "source": [
    "import paho.mqtt.client as mqtt\n",
    "import time\n",
    "\n",
    "broker = \"10.1.20.133\"\n",
    "# broker = \"broker.hivemq.com\"\n",
    "# broker = \"test.mosquitto.org\"\n",
    "\n",
    "# buat client baru bernama P2\n",
    "print(\"creating new instance...\\n\")\n",
    "client = mqtt.Client(\"PubPhoto\")\n",
    "\n",
    "#client.on_publish=on_publish\n",
    "\n",
    "# koneksi ke broker\n",
    "print(\"connecting to broker...\\n\")\n",
    "client.connect(broker)\n",
    "print('Connected!\\n')\n",
    "\n",
    "# mulai loop client\n",
    "# client.loop_start()\n",
    "\n",
    "# lakukan 20x publish waktu dengan topik 1\n",
    "print(\"publish something...\")\n",
    "# sleep 1 detik\n",
    "time.sleep(1)\n",
    "f=open(\"surf.jpg\", \"rb\")\n",
    "fileContent = f.read()\n",
    "byteArr = bytes(fileContent)\n",
    "client.publish(\"photo\",byteArr,0)\n",
    "# client.publish(\"photo\")\n",
    "print(\"\\nSuccess!\")\n",
    "    \n",
    "\n",
    "#stop loop\n",
    "client.loop_forever()"
   ]
  }
 ],
 "metadata": {
  "kernelspec": {
   "display_name": "Python 3",
   "language": "python",
   "name": "python3"
  },
  "language_info": {
   "codemirror_mode": {
    "name": "ipython",
    "version": 3
   },
   "file_extension": ".py",
   "mimetype": "text/x-python",
   "name": "python",
   "nbconvert_exporter": "python",
   "pygments_lexer": "ipython3",
   "version": "3.7.4"
  }
 },
 "nbformat": 4,
 "nbformat_minor": 2
}
